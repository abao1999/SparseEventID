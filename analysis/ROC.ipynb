{
 "cells": [
  {
   "cell_type": "code",
   "execution_count": 1,
   "metadata": {},
   "outputs": [],
   "source": [
    "import numpy\n",
    "import pandas\n",
    "from matplotlib import pyplot as plt\n",
    "%matplotlib inline"
   ]
  },
  {
   "cell_type": "code",
   "execution_count": 2,
   "metadata": {},
   "outputs": [],
   "source": [
    "# This quickly calculates the accuracy:\n",
    "def calculate_accuracy(df):\n",
    "    acc = {}\n",
    "    for key in ['neut', 'npi', 'cpi', 'prot']:\n",
    "        accuracy = numpy.mean(df['true_{}'.format(key)] == df['pred_{}'.format(key)])\n",
    "        acc[key] = accuracy\n",
    "#         print(\"{0}: {1:.3}%\".format(key, 100*accuracy))\n",
    "    return acc\n"
   ]
  },
  {
   "cell_type": "code",
   "execution_count": null,
   "metadata": {},
   "outputs": [],
   "source": []
  },
  {
   "cell_type": "code",
   "execution_count": 3,
   "metadata": {},
   "outputs": [],
   "source": [
    "# Fetch the 2D and 3D dataframes:\n",
    "files_3d = [ \"/Users/corey.adams/data/wire_pixel_analysis_files/3D_baseline/val_event_id_{}_of_8_out.pd\".format(i) for i in range(1,9)]\n",
    "df_list = [pandas.read_pickle(_file) for _file in files_3d]\n",
    "#concatenate them together\n",
    "df3d = pandas.concat(df_list, ignore_index=True)\n",
    "\n",
    "files_2d = [ \"/Users/corey.adams/data/wire_pixel_analysis_files/2D_baseline/val_event_id_{}_of_8_out.pd\".format(i) for i in range(1,9)]\n",
    "df_list = [pandas.read_pickle(_file) for _file in files_2d]\n",
    "#concatenate them together\n",
    "df2d = pandas.concat(df_list, ignore_index=True)\n",
    "\n"
   ]
  },
  {
   "cell_type": "code",
   "execution_count": 4,
   "metadata": {},
   "outputs": [
    {
     "ename": "NameError",
     "evalue": "name 'nc_2d_good_events' is not defined",
     "output_type": "error",
     "traceback": [
      "\u001b[0;31m---------------------------------------------------------------------------\u001b[0m",
      "\u001b[0;31mNameError\u001b[0m                                 Traceback (most recent call last)",
      "\u001b[0;32m<ipython-input-4-784e5c22e966>\u001b[0m in \u001b[0;36m<module>\u001b[0;34m()\u001b[0m\n\u001b[1;32m      1\u001b[0m \u001b[0;31m# nc_2d_good_events = df2d.query(\"pred_neut0 < 0.32 | pred_neut0 > 0.34\")\u001b[0m\u001b[0;34m\u001b[0m\u001b[0;34m\u001b[0m\u001b[0;34m\u001b[0m\u001b[0m\n\u001b[0;32m----> 2\u001b[0;31m \u001b[0mdf2d\u001b[0m \u001b[0;34m=\u001b[0m \u001b[0mdf2d\u001b[0m\u001b[0;34m.\u001b[0m\u001b[0miloc\u001b[0m\u001b[0;34m[\u001b[0m\u001b[0mnc_2d_good_events\u001b[0m\u001b[0;34m.\u001b[0m\u001b[0mindex\u001b[0m\u001b[0;34m]\u001b[0m\u001b[0;34m\u001b[0m\u001b[0;34m\u001b[0m\u001b[0m\n\u001b[0m\u001b[1;32m      3\u001b[0m \u001b[0mdf3d\u001b[0m \u001b[0;34m=\u001b[0m \u001b[0mdf3d\u001b[0m\u001b[0;34m.\u001b[0m\u001b[0miloc\u001b[0m\u001b[0;34m[\u001b[0m\u001b[0mnc_2d_good_events\u001b[0m\u001b[0;34m.\u001b[0m\u001b[0mindex\u001b[0m\u001b[0;34m]\u001b[0m\u001b[0;34m\u001b[0m\u001b[0;34m\u001b[0m\u001b[0m\n",
      "\u001b[0;31mNameError\u001b[0m: name 'nc_2d_good_events' is not defined"
     ]
    }
   ],
   "source": [
    "# nc_2d_good_events = df2d.query(\"pred_neut0 < 0.32 | pred_neut0 > 0.34\")\n",
    "df2d = df2d.iloc[nc_2d_good_events.index]\n",
    "df3d = df3d.iloc[nc_2d_good_events.index]"
   ]
  },
  {
   "cell_type": "code",
   "execution_count": null,
   "metadata": {},
   "outputs": [],
   "source": []
  },
  {
   "cell_type": "code",
   "execution_count": null,
   "metadata": {},
   "outputs": [],
   "source": [
    "accuracy_df = pandas.DataFrame(index=['all', 'nueCC', 'numuCC', 'NC'], \n",
    "                               columns=[\"neut2D\", \"neut3D\", \n",
    "                                        \"npi2D\",  \"npi3D\",\n",
    "                                        \"cpi2D\",  \"cpi3D\",\n",
    "                                        \"prot2D\", \"prot3D\"]\n",
    "                              )\n",
    "for dim in ['2D', '3D']:\n",
    "    df = df2d if dim == '2D' else df3d\n",
    "    accs = calculate_accuracy(df)\n",
    "    for i, selection in enumerate(['nueCC', 'numuCC', 'NC']):\n",
    "        sub_accs = calculate_accuracy(df.query(\"true_neut=={}\".format(i)))\n",
    "        for key in ['neut', 'npi', 'cpi', 'prot']:\n",
    "            if i == 0:\n",
    "                accuracy_df.loc['all'][key+dim] = \"{0:.1f}%\".format(100*accs[key])\n",
    "            accuracy_df.loc[selection][key+dim] = \"{0:.1f}%\".format(100*sub_accs[key])\n"
   ]
  },
  {
   "cell_type": "code",
   "execution_count": null,
   "metadata": {},
   "outputs": [],
   "source": [
    "accuracy_df"
   ]
  },
  {
   "cell_type": "code",
   "execution_count": null,
   "metadata": {},
   "outputs": [],
   "source": [
    "def normalize(_df, target=1e16):\n",
    "    for category in [0,1,2]:\n",
    "        sub_df = _df.query('true_neut=={}'.format(category))\n",
    "        weight = target / numpy.sum(sub_df['pot'])\n",
    "        \n",
    "        _df.loc[_df[\"true_neut\"] == category, \"weight\"] = weight\n",
    "\n"
   ]
  },
  {
   "cell_type": "code",
   "execution_count": null,
   "metadata": {},
   "outputs": [],
   "source": [
    "normalize(df2d)\n",
    "normalize(df3d)"
   ]
  },
  {
   "cell_type": "code",
   "execution_count": null,
   "metadata": {},
   "outputs": [],
   "source": [
    "print(numpy.sum(df2d['pot']))\n",
    "print(numpy.sum(df3d['pot']))"
   ]
  },
  {
   "cell_type": "code",
   "execution_count": null,
   "metadata": {},
   "outputs": [],
   "source": [
    "print(len(df))"
   ]
  },
  {
   "cell_type": "code",
   "execution_count": null,
   "metadata": {},
   "outputs": [],
   "source": [
    "# This function creates a histogram, based on true energy, that takes a dataframe as input\n",
    "def plot_events(df, categories, bins = numpy.arange(0,3.0, 0.2), title=\"\"):\n",
    "\n",
    "    # categories is a list of dicts.  Each dictionary consists of\n",
    "    # a set of true selections passed to df.query\n",
    "    # a label name for the legend\n",
    "    # a color\n",
    "    \n",
    "    \n",
    "    fig = plt.figure(figsize=(16,9))\n",
    "\n",
    "    bottom = numpy.zeros(len(bins) -1 )\n",
    "\n",
    "    for d in categories:\n",
    "        sub_df = df.query(d['selection'])\n",
    "        energies = sub_df['energy']\n",
    "        weights  = sub_df['weight']\n",
    "        \n",
    "        \n",
    "        # Use the passed bins to turn the energies into a histogram:\n",
    "        values, bin_edges = numpy.histogram(energies, bins=bins, weights=weights)\n",
    "    \n",
    "        bin_centers = 0.5*(bin_edges[1:] + bin_edges[:-1])\n",
    "        bin_widths  = (bin_edges[1:] - bin_edges[:-1])\n",
    "\n",
    "        plt.bar(bin_centers, values, \n",
    "                align='center', \n",
    "                width=bin_widths, \n",
    "                bottom=bottom,\n",
    "                color=d['color'],\n",
    "                label=d['label']\n",
    "               )\n",
    "        bottom += values\n",
    "\n",
    "\n",
    "    ax = plt.gca()\n",
    "    ax.set_axisbelow(True)\n",
    "    plt.grid(True)\n",
    "    plt.legend(fontsize=25)\n",
    "    \n",
    "    plt.ylabel(\"Events / 1e20 POT\", fontsize=20)\n",
    "    plt.xlabel(\"True Energy [GeV]\", fontsize=20)\n",
    "\n",
    "    plt.title(title, fontsize=25)\n",
    "\n",
    "    for tick in ax.xaxis.get_major_ticks():\n",
    "        tick.label.set_fontsize(20)\n",
    "    for tick in ax.yaxis.get_major_ticks():\n",
    "        tick.label.set_fontsize(20)\n",
    "    \n",
    "    plt.show()\n",
    "        "
   ]
  },
  {
   "cell_type": "code",
   "execution_count": null,
   "metadata": {},
   "outputs": [],
   "source": [
    "categories = [\n",
    "    {\n",
    "        'selection' : \"true_neut == 0\",\n",
    "        'color'     : \"blue\",\n",
    "        'label'     : r\"$\\nu_e CC$\"\n",
    "    },\n",
    "    {\n",
    "        'selection' : \"true_neut == 1\",\n",
    "        'color'     : \"green\",\n",
    "        'label'     : r\"$\\nu_{\\mu} CC$\"\n",
    "    },\n",
    "    {\n",
    "        'selection' : \"true_neut == 2 \",\n",
    "        'color'     : \"red\",\n",
    "        'label'     : r\"$NC$\"\n",
    "    }\n",
    "]\n",
    "categories_pi0 = [\n",
    "    {\n",
    "        'selection' : \"true_neut == 0 & true_npi==0\",\n",
    "        'color'     : \"blue\",\n",
    "        'label'     : r\"$\\nu_e CC Other$\"\n",
    "    },\n",
    "    {\n",
    "        'selection' : \"true_neut == 0 & true_npi==1\",\n",
    "        'color'     : \"lightblue\",\n",
    "        'label'     : r\"$\\nu_e CC$ w/ $\\pi^0$\"\n",
    "    },\n",
    "    {\n",
    "        'selection' : \"true_neut == 1 & true_npi==0\",\n",
    "        'color'     : \"green\",\n",
    "        'label'     : r\"$\\nu_{\\mu} CC$\"\n",
    "    },\n",
    "    {\n",
    "        'selection' : \"true_neut == 1 & true_npi==1\",\n",
    "        'color'     : \"lightgreen\",\n",
    "        'label'     : r\"$\\nu_{\\mu} CC$ w/ $\\pi^0$\"\n",
    "    },\n",
    "    {\n",
    "        'selection' : \"true_neut == 2 & true_npi==0\",\n",
    "        'color'     : \"pink\",\n",
    "        'label'     : r\"$NC$ Other\"\n",
    "    },\n",
    "    {\n",
    "        'selection' : \"true_neut == 2 & true_npi==1\",\n",
    "        'color'     : \"red\",\n",
    "        'label'     : r\"$NC$ w/ $\\pi^0$\"\n",
    "    }\n",
    "]"
   ]
  },
  {
   "cell_type": "code",
   "execution_count": null,
   "metadata": {},
   "outputs": [],
   "source": [
    "\n",
    "plot_events(df2d, categories=categories_pi0, title=\"2D\")\n",
    "plot_events(df3d, categories=categories_pi0, title=\"3D\")"
   ]
  },
  {
   "cell_type": "code",
   "execution_count": null,
   "metadata": {},
   "outputs": [],
   "source": [
    "# selection=\"pred_neut == 0\"\n",
    "selection=\"pred_neut0>0.9\"\n",
    "plot_events(df2d.query(selection), categories=categories_pi0, title=\"2D\")\n",
    "plot_events(df3d.query(selection), categories=categories_pi0, title=\"3D\")"
   ]
  },
  {
   "cell_type": "code",
   "execution_count": null,
   "metadata": {},
   "outputs": [],
   "source": [
    "def get_metrics(df, true_selection, reco_selection):\n",
    "    # This function computes the efficiency and purity for a reco selection on top of a truth selection.\n",
    "    \n",
    "    true_df = df.query(true_selection)\n",
    "    selected_df = df.query(reco_selection)\n",
    "    \n",
    "    background = df.query(reco_selection)\n",
    "    n_selected = numpy.sum(selected_df['weight'])\n",
    "    n_true = numpy.sum(true_df['weight'])\n",
    "    \n",
    "    n_correct_selected = numpy.sum(selected_df.query(true_selection)['weight'])\n",
    "    n_incorrect_selected = n_selected - n_correct_selected\n",
    "\n",
    "    purity = n_correct_selected / n_selected\n",
    "    efficiency = n_correct_selected / n_true\n",
    "    \n",
    "    return {\n",
    "        \"efficiency\" : efficiency, \n",
    "        \"purity\" : purity,\n",
    "    }\n"
   ]
  },
  {
   "cell_type": "code",
   "execution_count": null,
   "metadata": {},
   "outputs": [],
   "source": [
    "print(get_metrics(df2d, true_selection=\"true_neut==0\", reco_selection=\"pred_neut0 >= 0.95\"))\n",
    "print(get_metrics(df3d, true_selection=\"true_neut==0\", reco_selection=\"pred_neut0 >= 0.95\"))"
   ]
  },
  {
   "cell_type": "code",
   "execution_count": null,
   "metadata": {},
   "outputs": [],
   "source": [
    "def make_roc_curve(df, cut_string, coordinates, true_selection):\n",
    "    # This function populates the efficiency and accuracy values by varying\n",
    "    # the coordinates fed in.  \n",
    "    \n",
    "    efficiency = numpy.zeros(len(coordinates))\n",
    "    purity = numpy.zeros(len(coordinates))\n",
    "\n",
    "\n",
    "    \n",
    "    for i, coor in enumerate(coordinates):\n",
    "        cut = cut_string.format(coor)\n",
    "        res = get_metrics(df, true_selection, cut)\n",
    "        efficiency[i] = res['efficiency']\n",
    "        purity[i] = res['purity']        \n",
    "\n",
    "    \n",
    "    # prune off any NaN indexes\n",
    "    valid = numpy.logical_not(numpy.isnan(purity))\n",
    "            \n",
    "    return efficiency[valid], purity[valid]"
   ]
  },
  {
   "cell_type": "code",
   "execution_count": null,
   "metadata": {},
   "outputs": [],
   "source": [
    "e2d_nue, p2d_nue = make_roc_curve(df2d, \n",
    "               cut_string=\"pred_neut0>{}\", \n",
    "               coordinates = numpy.arange(0,1.0,0.001), \n",
    "               true_selection=\"true_neut==0\")\n",
    "\n",
    "e3d_nue, p3d_nue = make_roc_curve(df3d, \n",
    "               cut_string=\"pred_neut0>{}\", \n",
    "               coordinates = numpy.arange(0,1.0,0.001), \n",
    "               true_selection=\"true_neut==0\")"
   ]
  },
  {
   "cell_type": "markdown",
   "metadata": {},
   "source": []
  },
  {
   "cell_type": "code",
   "execution_count": null,
   "metadata": {},
   "outputs": [],
   "source": [
    "e2d_numu, p2d_numu = make_roc_curve(df2d, \n",
    "               cut_string=\"pred_neut1>{}\", \n",
    "               coordinates = numpy.arange(0,1.0,0.001), \n",
    "               true_selection=\"true_neut==1\")\n",
    "\n",
    "e3d_numu, p3d_numu = make_roc_curve(df3d, \n",
    "               cut_string=\"pred_neut1>{}\", \n",
    "               coordinates = numpy.arange(0,1.0,0.001), \n",
    "               true_selection=\"true_neut==1\")"
   ]
  },
  {
   "cell_type": "code",
   "execution_count": null,
   "metadata": {},
   "outputs": [],
   "source": [
    "e2d_NC, p2d_NC = make_roc_curve(df2d, \n",
    "               cut_string=\"pred_neut2>{}\", \n",
    "               coordinates = numpy.arange(0,1.0,0.001), \n",
    "               true_selection=\"true_neut==2\")\n",
    "\n",
    "e3d_NC, p3d_NC = make_roc_curve(df3d, \n",
    "               cut_string=\"pred_neut2>{}\", \n",
    "               coordinates = numpy.arange(0,1.0,0.001), \n",
    "               true_selection=\"true_neut==2\")"
   ]
  },
  {
   "cell_type": "code",
   "execution_count": null,
   "metadata": {},
   "outputs": [],
   "source": [
    "def plot_roc_curve(curves, title=\"\"):\n",
    "    \n",
    "    fig = plt.figure(figsize=(16, 16))\n",
    "\n",
    "    for e, p, label in curves:\n",
    "\n",
    "        plt.plot(e, p, label=label, lw=3)\n",
    "\n",
    "        plt.xlabel(\"Purity\", fontsize=25)\n",
    "        plt.ylabel(\"Efficiency\", fontsize=25)\n",
    "        plt.grid(True)\n",
    "\n",
    "        \n",
    "    plt.legend(fontsize=25)\n",
    "    \n",
    "    plt.title(title, fontsize=35)\n",
    "    plt.ylabel(\"Purity\", fontsize=30)\n",
    "    plt.xlabel(\"Efficiency\", fontsize=30)\n",
    "\n",
    "    ax = plt.gca()\n",
    "    for tick in ax.xaxis.get_major_ticks():\n",
    "        tick.label.set_fontsize(20)\n",
    "    for tick in ax.yaxis.get_major_ticks():\n",
    "        tick.label.set_fontsize(20)\n",
    "    \n",
    "    plt.ylim([0,1])\n",
    "    plt.xlim([0,1])\n",
    "\n",
    "\n",
    "    plt.show()"
   ]
  },
  {
   "cell_type": "code",
   "execution_count": null,
   "metadata": {},
   "outputs": [],
   "source": [
    "plot_roc_curve(curves=[\n",
    "                          [e2d_nue, p2d_nue, \"2d\"],\n",
    "                          [e3d_nue, p3d_nue, \"3d\"]\n",
    "                      ],\n",
    "               title=\"Nue CC\"\n",
    "    )"
   ]
  },
  {
   "cell_type": "code",
   "execution_count": null,
   "metadata": {},
   "outputs": [],
   "source": [
    "plot_roc_curve(curves=[\n",
    "                          [e2d_numu, p2d_numu, \"2d\"],\n",
    "                          [e3d_numu, p3d_numu, \"3d\"]\n",
    "                      ],\n",
    "               title=\"Numu CC\"\n",
    "    )"
   ]
  },
  {
   "cell_type": "code",
   "execution_count": null,
   "metadata": {},
   "outputs": [],
   "source": [
    "plot_roc_curve(curves=[\n",
    "                          [e2d_NC, p2d_NC, \"2d\"],\n",
    "                          [e3d_NC, p3d_NC, \"3d\"]\n",
    "                      ],\n",
    "               title=\"NC\"\n",
    "    )"
   ]
  },
  {
   "cell_type": "code",
   "execution_count": null,
   "metadata": {},
   "outputs": [],
   "source": [
    "def print_stats(df, selection):\n",
    "    print(\"Total number of events selected by this selection: \", numpy.sum(df.query(selection)['weight']))\n",
    "    print(\"Total number of nue events selected by this selection: \", numpy.sum(df.query(selection).query(\"true_neut==0\")['weight']))\n",
    "    print(\"Total number of numu events selected by this selection: \", numpy.sum(df.query(selection).query(\"true_neut==1\")['weight']))\n",
    "    print(\"Total number of nc events selected by this selection: \", numpy.sum(df.query(selection).query(\"true_neut==2\")['weight']))\n",
    "\n",
    "\n",
    "\n"
   ]
  },
  {
   "cell_type": "code",
   "execution_count": null,
   "metadata": {},
   "outputs": [],
   "source": [
    "selection= 'pred_neut0>0.5'\n",
    "# selection= 'pred_neut=50 | pred_neut==1 | pred_neut==2'\n",
    "\n",
    "print_stats(df2d, selection)\n",
    "print()\n",
    "print_stats(df3d, selection)\n",
    "\n",
    "\n"
   ]
  },
  {
   "cell_type": "code",
   "execution_count": null,
   "metadata": {},
   "outputs": [],
   "source": [
    "0.48 / (0.48 + 0.45 + 3.69)"
   ]
  },
  {
   "cell_type": "code",
   "execution_count": null,
   "metadata": {},
   "outputs": [],
   "source": [
    "0.48 / (0.48 + 1.66 + 1.42)"
   ]
  },
  {
   "cell_type": "code",
   "execution_count": null,
   "metadata": {},
   "outputs": [],
   "source": [
    "bins = numpy.arange(0,1.001, 0.01)\n",
    "\n",
    "bin_centers = 0.5*(bins[1:] + bins[:-1])\n",
    "bin_widths  = bins[1:] - bins[:-1]\n",
    "\n",
    "\n",
    "labels = 'nue', 'numu', 'nc'\n",
    "bottom = numpy.zeros(len(bins) - 1)\n",
    "\n",
    "fig = plt.figure(figsize=(16,9))\n",
    "\n",
    "for i, selection in enumerate(['true_neut==0', 'true_neut==1', 'true_neut==2']):\n",
    "    vals, be = numpy.histogram(df2d.query(selection)['pred_neut0'], bins=bins)\n",
    "    plt.bar(bin_centers, vals, bottom=bottom, width=bin_widths, label=labels[i])\n",
    "    bottom += vals\n",
    "    \n",
    "plt.xlabel(\"Nue Prediction Score\")\n",
    "plt.yscale('log')\n",
    "plt.legend(fontsize=25)\n",
    "plt.title('2D')\n",
    "plt.show()\n"
   ]
  },
  {
   "cell_type": "code",
   "execution_count": null,
   "metadata": {},
   "outputs": [],
   "source": [
    "bins = numpy.arange(0,1.001, 0.01)\n",
    "\n",
    "bin_centers = 0.5*(bins[1:] + bins[:-1])\n",
    "bin_widths  = bins[1:] - bins[:-1]\n",
    "\n",
    "\n",
    "labels = 'nue', 'numu', 'nc'\n",
    "bottom = numpy.zeros(len(bins) - 1)\n",
    "\n",
    "fig = plt.figure(figsize=(16,9))\n",
    "\n",
    "for i, selection in enumerate(['true_neut==0', 'true_neut==1', 'true_neut==2']):\n",
    "    vals, be = numpy.histogram(df3d.query(selection)['pred_neut0'], bins=bins)\n",
    "    plt.bar(bin_centers, vals, bottom=bottom, width=bin_widths, label=labels[i])\n",
    "    bottom += vals\n",
    "    \n",
    "plt.xlabel(\"Nue Prediction Score\")\n",
    "plt.legend(fontsize=25)\n",
    "plt.yscale('log')\n",
    "plt.title('3D')\n",
    "plt.show()"
   ]
  },
  {
   "cell_type": "code",
   "execution_count": null,
   "metadata": {},
   "outputs": [],
   "source": [
    "numpy.sum(df3d.query('true_neut == 0 & pred_neut0 < 0.5')['weight'])"
   ]
  },
  {
   "cell_type": "code",
   "execution_count": null,
   "metadata": {},
   "outputs": [],
   "source": []
  },
  {
   "cell_type": "code",
   "execution_count": null,
   "metadata": {},
   "outputs": [],
   "source": []
  },
  {
   "cell_type": "code",
   "execution_count": null,
   "metadata": {},
   "outputs": [],
   "source": []
  },
  {
   "cell_type": "code",
   "execution_count": null,
   "metadata": {},
   "outputs": [],
   "source": [
    "print(get_metrics(df2d_corrected, true_selection=\"true_neut==0\", reco_selection=\"pred_neut0 >= 0.95\"))\n",
    "print(get_metrics(df3d_corrected, true_selection=\"true_neut==0\", reco_selection=\"pred_neut0 >= 0.95\"))"
   ]
  },
  {
   "cell_type": "code",
   "execution_count": null,
   "metadata": {},
   "outputs": [],
   "source": [
    "df3d_corrected"
   ]
  },
  {
   "cell_type": "code",
   "execution_count": null,
   "metadata": {},
   "outputs": [],
   "source": []
  }
 ],
 "metadata": {
  "kernelspec": {
   "display_name": "Python 3",
   "language": "python",
   "name": "python3"
  },
  "language_info": {
   "codemirror_mode": {
    "name": "ipython",
    "version": 3
   },
   "file_extension": ".py",
   "mimetype": "text/x-python",
   "name": "python",
   "nbconvert_exporter": "python",
   "pygments_lexer": "ipython3",
   "version": "3.6.8"
  }
 },
 "nbformat": 4,
 "nbformat_minor": 2
}
